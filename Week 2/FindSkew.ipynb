{
 "cells": [
  {
   "cell_type": "markdown",
   "metadata": {},
   "source": [
    "Give all values of Skew (GAGCCACCGCGATA) for i ranging from 0 to 14 as a collection of space-separated integers. Use the sample dataset below to help!\n",
    "\n",
    "Sample Input:\n",
    "     CATGGGCATCGGCCATACGCC\n",
    "\n",
    "Sample Output:\n",
    "     0 -1 -1 -1 0 1 2 1 1 1 0 1 2 1 0 0 0 0 -1 0 -1 -2"
   ]
  },
  {
   "cell_type": "code",
   "execution_count": 21,
   "metadata": {},
   "outputs": [],
   "source": [
    "def skew(sequence):\n",
    "    c = 0; g = 0\n",
    "    skew = [0]\n",
    "    for nucletoide in sequence:\n",
    "        if nucletoide == \"C\":\n",
    "            c = c + 1\n",
    "        elif nucletoide == \"G\":\n",
    "            g = g + 1\n",
    "        skew.append(g - c)\n",
    "    print(\" \".join(map(str, skew)))"
   ]
  },
  {
   "cell_type": "code",
   "execution_count": 22,
   "metadata": {},
   "outputs": [
    {
     "name": "stdout",
     "output_type": "stream",
     "text": [
      "0 -1 -1 -1 0 1 2 1 1 1 0 1 2 1 0 0 0 0 -1 0 -1 -2\n"
     ]
    }
   ],
   "source": [
    "input = \"CATGGGCATCGGCCATACGCC\"\n",
    "skew(input)"
   ]
  }
 ],
 "metadata": {
  "kernelspec": {
   "display_name": "Python 3",
   "language": "python",
   "name": "python3"
  },
  "language_info": {
   "codemirror_mode": {
    "name": "ipython",
    "version": 3
   },
   "file_extension": ".py",
   "mimetype": "text/x-python",
   "name": "python",
   "nbconvert_exporter": "python",
   "pygments_lexer": "ipython3",
   "version": "3.11.0"
  }
 },
 "nbformat": 4,
 "nbformat_minor": 2
}
