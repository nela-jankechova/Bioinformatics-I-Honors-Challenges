{
 "cells": [
  {
   "cell_type": "markdown",
   "metadata": {},
   "source": [
    "# Minimum Skew Problem: Find a position in a genome where the skew diagram attains a minimum.\n",
    "\n",
    "Input: A DNA string Genome.\n",
    "Output: All integer(s) i minimizing Skewi (Genome) among all values of i (from 0 to |Genome|).\n",
    "Code Challenge: Solve the Minimum Skew Problem.\n",
    "\n",
    "Sample Input: TAAAGACTGCCGAGAGGCCAACACGAGTGCTAGAACGAGGGGCGTAAACGCGGGTCCGAT\n",
    "Sample Output: 11 24"
   ]
  },
  {
   "cell_type": "code",
   "execution_count": 9,
   "metadata": {},
   "outputs": [],
   "source": [
    "# find the skew at each point and return as an array\n",
    "def skew(sequence):\n",
    "    c = 0; g = 0\n",
    "    skew = [0]\n",
    "    for nucletoide in sequence:\n",
    "        if nucletoide == \"C\":\n",
    "            c = c + 1\n",
    "        elif nucletoide == \"G\":\n",
    "            g = g + 1\n",
    "        skew.append(g - c)\n",
    "    return skew\n",
    "\n",
    "# find the minimum skew and return as an array\n",
    "def MinimumSkew(genome):\n",
    "    s = skew(genome)\n",
    "    m = min(s)\n",
    "    mins = []\n",
    "    i = 0\n",
    "    for val in s:\n",
    "        if val == m:\n",
    "            mins.append(i)\n",
    "        i = i + 1\n",
    "    return mins"
   ]
  },
  {
   "cell_type": "code",
   "execution_count": 20,
   "metadata": {},
   "outputs": [
    {
     "name": "stdout",
     "output_type": "stream",
     "text": [
      "3989\n"
     ]
    }
   ],
   "source": [
    "# find minimum skew of test data file\n",
    "test_data_file =\"FindMinimumSkew Test Data\\dataset_30277_10.txt\"\n",
    "with open(test_data_file, \"r\") as file:\n",
    "    genome = file.readline().strip()\n",
    "    minimum_skew = MinimumSkew(genome)\n",
    "    print(\" \".join(map(str, minimum_skew)))"
   ]
  },
  {
   "cell_type": "code",
   "execution_count": null,
   "metadata": {},
   "outputs": [],
   "source": [
    "# test using the data in the question\n",
    "genome = \"TAAAGACTGCCGAGAGGCCAACACGAGTGCTAGAACGAGGGGCGTAAACGCGGGTCCGAT\"\n",
    "minimum_skew = MinimumSkew(genome)\n",
    "print(\" \".join(map(str, minimum_skew)))"
   ]
  }
 ],
 "metadata": {
  "kernelspec": {
   "display_name": "Python 3",
   "language": "python",
   "name": "python3"
  },
  "language_info": {
   "codemirror_mode": {
    "name": "ipython",
    "version": 3
   },
   "file_extension": ".py",
   "mimetype": "text/x-python",
   "name": "python",
   "nbconvert_exporter": "python",
   "pygments_lexer": "ipython3",
   "version": "3.11.0"
  }
 },
 "nbformat": 4,
 "nbformat_minor": 2
}
