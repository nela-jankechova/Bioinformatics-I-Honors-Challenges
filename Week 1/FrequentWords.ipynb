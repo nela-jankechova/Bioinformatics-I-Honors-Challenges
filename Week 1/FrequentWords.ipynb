{
 "cells": [
  {
   "attachments": {},
   "cell_type": "markdown",
   "metadata": {},
   "source": [
    "# Code Challenge: Solve the Frequent Words Problem.\n",
    "\n",
    "Input: A string Text and an integer k.\n",
    "Output: All most frequent k-mers in Text.\n",
    "\n",
    "## Sample Input:\n",
    "\n",
    "ACGTTGCATGTCGCATGATGCATGAGAGCT\n",
    "4\n",
    "\n",
    "## Sample Output:\n",
    "\n",
    "CATG GCAT"
   ]
  },
  {
   "cell_type": "code",
   "execution_count": 53,
   "metadata": {},
   "outputs": [],
   "source": [
    "def MaxValues(dictionary):\n",
    "    highest_list = \"\"\n",
    "    # the python max method will find the highest dictionary value but will not return multiple values\n",
    "    # save the highest value and iterate through the dictionary for matching keys\n",
    "    highest_count = dictionary[max(dictionary, key=dictionary.get)]\n",
    "    for slide, len in dictionary.items():\n",
    "        if len == highest_count:\n",
    "            highest_list = \" \".join([highest_list, slide])\n",
    "    return highest_list\n",
    "    \n",
    "\n",
    "def FrequentWords(text, k):\n",
    "    # make a dictionary to store all k-mers\n",
    "    kmers = {}\n",
    "    # iterate through text\n",
    "    for i in range(len(text)-(k-1)):\n",
    "        slide = text[i:i+k]\n",
    "        # for each k length slice, update the dictionary value\n",
    "        if slide in kmers:\n",
    "            kmers[slide] = kmers[slide] + 1\n",
    "        else:\n",
    "            kmers[slide] = 1\n",
    "    # return the most frequent entries in the dictionary\n",
    "    return MaxValues(kmers)\n"
   ]
  },
  {
   "cell_type": "code",
   "execution_count": 58,
   "metadata": {},
   "outputs": [
    {
     "name": "stdout",
     "output_type": "stream",
     "text": [
      " AGTTTAAAGTGTTC GTTTAAAGTGTTCG TTTAAAGTGTTCGG GTTTCTAAGTTTAA TTTCTAAGTTTAAA TTCTAAGTTTAAAG TGTTCGGCTGCACT GTTCGGCTGCACTC\n"
     ]
    }
   ],
   "source": [
    "# import the test sequence\n",
    "test_data_file_1 = \"FrequentWords Test Data\\dataset_30272_13.txt\"\n",
    "# output is AGTTTAAAGTGTTC GTTTAAAGTGTTCG TTTAAAGTGTTCGG GTTTCTAAGTTTAA TTTCTAAGTTTAAA TTCTAAGTTTAAAG TGTTCGGCTGCACT GTTCGGCTGCACTC\n",
    "\n",
    "with open(test_data_file_1, \"r\") as file:\n",
    "    \n",
    "    text = file.readline().strip()\n",
    "    k = int(file.readline().strip())\n",
    "\n",
    "    print(FrequentWords(text, k))"
   ]
  }
 ],
 "metadata": {
  "kernelspec": {
   "display_name": "Python 3",
   "language": "python",
   "name": "python3"
  },
  "language_info": {
   "codemirror_mode": {
    "name": "ipython",
    "version": 3
   },
   "file_extension": ".py",
   "mimetype": "text/x-python",
   "name": "python",
   "nbconvert_exporter": "python",
   "pygments_lexer": "ipython3",
   "version": "3.11.0"
  },
  "orig_nbformat": 4
 },
 "nbformat": 4,
 "nbformat_minor": 2
}
