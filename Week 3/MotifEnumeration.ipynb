{
 "cells": [
  {
   "cell_type": "markdown",
   "metadata": {},
   "source": [
    "# Code Challenge: Implement MotifEnumeration (reproduced below).\n",
    "\n",
    "Input: Integers k and d, followed by a space-separated collection of strings Dna.\n",
    "Output: All (k, d)-motifs in Dna.\n",
    "```\n",
    "MotifEnumeration(Dna, k, d)\n",
    "    Patterns ← an empty set\n",
    "    for each k-mer Pattern in Dna\n",
    "        for each k-mer Pattern’ differing from Pattern by at most d mismatches\n",
    "            if Pattern' appears in each string from Dna with at most d mismatches\n",
    "                add Pattern' to Patterns\n",
    "    remove duplicates from Patterns\n",
    "    return Patterns\n",
    "```\n",
    "\n",
    "## Sample Input:\n",
    "3 1\n",
    "ATTTGGC TGCCTTA CGGTATC GAAAATT\n",
    "## Sample Output:\n",
    "ATA ATT GTT TTT"
   ]
  },
  {
   "cell_type": "code",
   "execution_count": 2,
   "metadata": {},
   "outputs": [],
   "source": [
    "# helper functions from week 2\n",
    "\n",
    "def HammingDistance(string_1, string_2):\n",
    "    # find hamming distance by iterating over string\n",
    "    hamming_distance = 0\n",
    "    string_length = len(string_1)\n",
    "    for i in range(string_length):\n",
    "        if string_1[i] != string_2[i]:\n",
    "            hamming_distance = hamming_distance + 1\n",
    "    return hamming_distance\n",
    "\n",
    "def Suffix(p):\n",
    "    return p[1:]\n",
    "\n",
    "def Neighbors(pattern, d):\n",
    "    if d == 0:\n",
    "        return [pattern]\n",
    "    if len(pattern) == 1:\n",
    "        return [\"A\", \"C\", \"G\", \"T\"]\n",
    "    neighborhood = []\n",
    "    suffixNeighbors = Neighbors(Suffix(pattern), d)\n",
    "    for text in suffixNeighbors:\n",
    "        if HammingDistance(Suffix(pattern), text) < d:\n",
    "            for nucleotide in [\"A\", \"C\", \"G\", \"T\"]:\n",
    "                neighborhood.append(nucleotide + text)\n",
    "        else:\n",
    "            neighborhood.append(pattern[0] + text)\n",
    "    return neighborhood"
   ]
  },
  {
   "cell_type": "code",
   "execution_count": 50,
   "metadata": {},
   "outputs": [],
   "source": [
    "def split_substrings(Dna, k):\n",
    "    dna_array = Dna.split(\" \")\n",
    "    final = []\n",
    "    for entry in dna_array:\n",
    "        for i in range(len(entry)-k-1):\n",
    "            final.append(entry[i:i+k])\n",
    "    return final\n",
    "\n",
    "# like hamming distance but unequal lengths\n",
    "def Difference(kmer, dna):\n",
    "    k = len(kmer)\n",
    "    lowest = k\n",
    "    for i in range(len(dna) - k + 1):\n",
    "        if HammingDistance(kmer, dna[i:i+k]) < lowest:\n",
    "            lowest = HammingDistance(kmer, dna[i:i+k])\n",
    "    return lowest\n",
    "\n",
    "    \n",
    "def MotifEnumeration(Dna, k, d):\n",
    "    patterns = []\n",
    "    dna_susbtrings = split_substrings(Dna, k)\n",
    "    for pattern in dna_susbtrings:\n",
    "        # find each k-mer Pattern’ differing from Pattern by at most d mismatches\n",
    "        differing_patterns = Neighbors(str(pattern), d)\n",
    "        for kmer in differing_patterns:\n",
    "            count = 0\n",
    "            for dna in Dna.split(\" \"):\n",
    "                if Difference(kmer, dna) <= d:\n",
    "                    count = count + 1\n",
    "            if count == len(Dna.split(\" \")):\n",
    "                patterns.append(kmer)\n",
    "    # remove duplicates from patterns\n",
    "    patterns = list(dict.fromkeys(patterns))\n",
    "    return \" \".join(map(str, patterns))"
   ]
  },
  {
   "cell_type": "code",
   "execution_count": 41,
   "metadata": {},
   "outputs": [
    {
     "name": "stdout",
     "output_type": "stream",
     "text": [
      "ATA ATT GTT TTT\n"
     ]
    }
   ],
   "source": [
    "print(MotifEnumeration(\"ATTTGGC TGCCTTA CGGTATC GAAAATT\",3,1))"
   ]
  },
  {
   "cell_type": "code",
   "execution_count": 52,
   "metadata": {},
   "outputs": [
    {
     "name": "stdout",
     "output_type": "stream",
     "text": [
      "AATCA AATCC AATCG AATCT\n"
     ]
    }
   ],
   "source": [
    "test_file=\"MotifEnumeration Test Files\\dataset_30302_8 (4).txt\"\n",
    "\n",
    "with open(test_file, \"r\") as file:\n",
    "    k_d = file.readline().strip().split(\" \")\n",
    "    k = int(k_d[0])\n",
    "    d = int(k_d[1])\n",
    "    dna = file.readline().strip()\n",
    "    print(MotifEnumeration(dna, k, d))"
   ]
  }
 ],
 "metadata": {
  "kernelspec": {
   "display_name": "Python 3",
   "language": "python",
   "name": "python3"
  },
  "language_info": {
   "codemirror_mode": {
    "name": "ipython",
    "version": 3
   },
   "file_extension": ".py",
   "mimetype": "text/x-python",
   "name": "python",
   "nbconvert_exporter": "python",
   "pygments_lexer": "ipython3",
   "version": "3.11.0"
  }
 },
 "nbformat": 4,
 "nbformat_minor": 2
}
