{
 "cells": [
  {
   "cell_type": "markdown",
   "metadata": {},
   "source": [
    "# Hamming Distance Problem: Compute the Hamming distance between two strings.\n",
    "\n",
    "Input: Two strings of equal length.\n",
    "Output: The Hamming distance between these strings.\n",
    "Code Challenge: Solve the Hamming Distance Problem.\n",
    "\n",
    "## Sample Input:\n",
    "GGGCCGTTGGT\n",
    "GGACCGTTGAC\n",
    "## Sample Output:\n",
    "3"
   ]
  },
  {
   "cell_type": "code",
   "execution_count": 4,
   "metadata": {},
   "outputs": [],
   "source": [
    "def HammingDistance(string_1, string_2):\n",
    "    # confirm same length\n",
    "    try:\n",
    "        assert len(string_1) == len(string_2)\n",
    "    except AssertionError:\n",
    "        print(\"Error: The strings must have the same length.\")\n",
    "\n",
    "    # find hamming distance by iterating over string\n",
    "    hamming_distance = 0\n",
    "    string_length = len(string_1)\n",
    "    for i in range(string_length):\n",
    "        if string_1[i] != string_2[i]:\n",
    "            hamming_distance = hamming_distance + 1\n",
    "    return hamming_distance"
   ]
  },
  {
   "cell_type": "code",
   "execution_count": 5,
   "metadata": {},
   "outputs": [
    {
     "name": "stdout",
     "output_type": "stream",
     "text": [
      "3\n"
     ]
    }
   ],
   "source": [
    "# test the solution on the example data from the question\n",
    "string_1 = \"GGGCCGTTGGT\"\n",
    "string_2 = \"GGACCGTTGAC\"\n",
    "\n",
    "print(HammingDistance(string_1=string_1, string_2=string_2))"
   ]
  },
  {
   "cell_type": "code",
   "execution_count": 7,
   "metadata": {},
   "outputs": [
    {
     "name": "stdout",
     "output_type": "stream",
     "text": [
      "782\n"
     ]
    }
   ],
   "source": [
    "# find hamming distance of test data file\n",
    "test_data_file =\"HammingDistance Test Data\\dataset_30278_3.txt\"\n",
    "with open(test_data_file, \"r\") as file:\n",
    "    string_1 = file.readline().strip()\n",
    "    string_2 = file.readline().strip()\n",
    "    hamming_distance = HammingDistance(string_1=string_1, string_2=string_2)\n",
    "    print(hamming_distance)"
   ]
  }
 ],
 "metadata": {
  "kernelspec": {
   "display_name": "Python 3",
   "language": "python",
   "name": "python3"
  },
  "language_info": {
   "codemirror_mode": {
    "name": "ipython",
    "version": 3
   },
   "file_extension": ".py",
   "mimetype": "text/x-python",
   "name": "python",
   "nbconvert_exporter": "python",
   "pygments_lexer": "ipython3",
   "version": "3.11.0"
  }
 },
 "nbformat": 4,
 "nbformat_minor": 2
}
