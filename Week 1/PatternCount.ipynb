{
 "cells": [
  {
   "attachments": {},
   "cell_type": "markdown",
   "metadata": {},
   "source": [
    "## Code Challenge: Implement PatternCount (reproduced below).\n",
    "\n",
    "Input: Strings Text and Pattern.\n",
    "Output: Count(Text, Pattern).\n",
    "\n",
    "```\n",
    "PatternCount(Text, Pattern)\n",
    "  count ← 0\n",
    "  for i ← 0 to |Text| − |Pattern|\n",
    "    if Text(i, |Pattern|) = Pattern\n",
    "      count ← count + 1\n",
    "  return count\n",
    "```\n",
    "## Debug Datasets\n",
    "### Sample Input:\n",
    "GCGCG\n",
    "GCG\n",
    "### Sample Output:\n",
    "2"
   ]
  },
  {
   "cell_type": "code",
   "execution_count": 2,
   "metadata": {},
   "outputs": [],
   "source": [
    "# implement the PatternCount function\n",
    "def PatternCount(Text, Pattern):\n",
    "    count = 0\n",
    "    len_text = len(Text)\n",
    "    len_pattern = len(Pattern)\n",
    "    function_range = len_text - len_pattern\n",
    "    for i in range(function_range + 1):\n",
    "        end_position = i + len(Pattern)\n",
    "        if Text[i:end_position] == Pattern:\n",
    "            count = count + 1\n",
    "    return count"
   ]
  },
  {
   "cell_type": "code",
   "execution_count": 10,
   "metadata": {},
   "outputs": [
    {
     "name": "stdout",
     "output_type": "stream",
     "text": [
      "The number of instances of GGAAGGGGG in the text is 36\n"
     ]
    }
   ],
   "source": [
    "# import the DNA sequence\n",
    "test_data_file_1 = \"PatternCount Test Data\\dataset_30272_2.txt\" # correct output is 36\n",
    "test_data_file_2 = \"PatternCount Test Data\\dataset_30272_6.txt\" # correct output is 30\n",
    "\n",
    "with open(test_data_file_1, \"r\") as file:\n",
    "    \n",
    "    text = file.readline().strip()\n",
    "    pattern = file.readline().strip()\n",
    "\n",
    "    # run the PatternCount function on the sequence\n",
    "    count = PatternCount(text, pattern)\n",
    "    \n",
    "    print(\"The number of instances of\", pattern, \"in the text is\", count)"
   ]
  }
 ],
 "metadata": {
  "kernelspec": {
   "display_name": "Python 3",
   "language": "python",
   "name": "python3"
  },
  "language_info": {
   "codemirror_mode": {
    "name": "ipython",
    "version": 3
   },
   "file_extension": ".py",
   "mimetype": "text/x-python",
   "name": "python",
   "nbconvert_exporter": "python",
   "pygments_lexer": "ipython3",
   "version": "3.11.0"
  },
  "orig_nbformat": 4
 },
 "nbformat": 4,
 "nbformat_minor": 2
}
