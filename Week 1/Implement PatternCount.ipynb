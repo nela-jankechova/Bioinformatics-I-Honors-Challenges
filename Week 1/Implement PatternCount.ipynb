{
 "cells": [
  {
   "attachments": {},
   "cell_type": "markdown",
   "metadata": {},
   "source": [
    "# Instructions from the course website\n",
    "## Code Challenge: Implement PatternCount (reproduced below).\n",
    "     Input: Strings Text and Pattern.\n",
    "     Output: Count(Text, Pattern).\n",
    "\n",
    "PatternCount(Text, Pattern)\n",
    "  count ← 0\n",
    "  for i ← 0 to |Text| − |Pattern|\n",
    "    if Text(i, |Pattern|) = Pattern\n",
    "      count ← count + 1\n",
    "  return count\n",
    "\n",
    "## Debug Datasets\n",
    "### Sample Input:\n",
    "GCGCG\n",
    "GCG\n",
    "### Sample Output:\n",
    "2"
   ]
  },
  {
   "cell_type": "code",
   "execution_count": 58,
   "metadata": {},
   "outputs": [],
   "source": [
    "# implement the PatternCount function\n",
    "def PatternCount(Text, Pattern):\n",
    "    count = 0\n",
    "    len_text = len(Text)\n",
    "    len_pattern = len(Pattern)\n",
    "    function_range = len_text - len_pattern\n",
    "    for i in range(function_range + 1):\n",
    "        print(\"Loop \", i, \"Count: \", count)\n",
    "        end_position = i + len(Pattern)\n",
    "        print (\"checking:\", Text[i:end_position])\n",
    "        if Text[i:end_position] == Pattern:\n",
    "            count = count + 1\n",
    "            print(\"Found match \\n\")\n",
    "    return count"
   ]
  },
  {
   "cell_type": "code",
   "execution_count": 59,
   "metadata": {},
   "outputs": [
    {
     "name": "stdout",
     "output_type": "stream",
     "text": [
      "CG\n",
      "Loop  0 Count:  0\n",
      "checking: TA\n",
      "Loop  1 Count:  0\n",
      "checking: AG\n",
      "Loop  2 Count:  0\n",
      "checking: GT\n",
      "Loop  3 Count:  0\n",
      "checking: TA\n",
      "Loop  4 Count:  0\n",
      "checking: AG\n",
      "Loop  5 Count:  0\n",
      "checking: GG\n",
      "Loop  6 Count:  0\n",
      "checking: GT\n",
      "Loop  7 Count:  0\n",
      "checking: TA\n",
      "Loop  8 Count:  0\n",
      "checking: AC\n",
      "Loop  9 Count:  0\n",
      "checking: CG\n",
      "Found match \n",
      "\n",
      "Loop  10 Count:  1\n",
      "checking: GT\n",
      "Loop  11 Count:  1\n",
      "checking: TA\n",
      "Loop  12 Count:  1\n",
      "checking: AG\n",
      "Loop  13 Count:  1\n",
      "checking: GG\n",
      "Loop  14 Count:  1\n",
      "checking: GA\n",
      "Loop  15 Count:  1\n",
      "checking: AG\n",
      "Loop  16 Count:  1\n",
      "checking: GA\n",
      "Loop  17 Count:  1\n",
      "checking: AG\n",
      "1\n"
     ]
    }
   ],
   "source": [
    "# import the DNA sequence\n",
    "\n",
    "with open(\"dataset_30272_6.txt\", \"r\") as file:\n",
    "    \n",
    "    text = file.readline().strip()\n",
    "    pattern = file.readline().strip()\n",
    "    # text = \"TAGTAGGTACGTAGGAGAG\"\n",
    "    # pattern = \"CG\"\n",
    "    print(pattern)\n",
    "    # run the PatternCount function on the sequence\n",
    "    print(PatternCount(text, pattern))"
   ]
  },
  {
   "cell_type": "code",
   "execution_count": null,
   "metadata": {},
   "outputs": [],
   "source": []
  }
 ],
 "metadata": {
  "kernelspec": {
   "display_name": "Python 3",
   "language": "python",
   "name": "python3"
  },
  "language_info": {
   "codemirror_mode": {
    "name": "ipython",
    "version": 3
   },
   "file_extension": ".py",
   "mimetype": "text/x-python",
   "name": "python",
   "nbconvert_exporter": "python",
   "pygments_lexer": "ipython3",
   "version": "3.11.0"
  },
  "orig_nbformat": 4
 },
 "nbformat": 4,
 "nbformat_minor": 2
}
