{
 "cells": [
  {
   "attachments": {},
   "cell_type": "markdown",
   "metadata": {},
   "source": [
    "# Code Challenge: Solve the Pattern Matching Problem.\n",
    "\n",
    "Input: Two strings, Pattern and Genome.\n",
    "Output: A collection of space-separated integers specifying all starting positions where Pattern appears as a substring of Genome.\n",
    "\n",
    "## Sample Input:\n",
    "\n",
    "ATAT\n",
    "GATATATGCATATACTT\n",
    "\n",
    "## Sample Output:\n",
    "1 3 9"
   ]
  },
  {
   "cell_type": "code",
   "execution_count": 3,
   "metadata": {},
   "outputs": [],
   "source": [
    "def PatternMatching(pattern, genome):\n",
    "    indeces = \"\"\n",
    "    len_pattern = len(pattern)\n",
    "    for i in range(len(genome)-(len_pattern-1)):\n",
    "        slide = genome[i:i+len_pattern]\n",
    "        # for each k length slice, update the dictionary value\n",
    "        if slide == pattern:\n",
    "            indeces = \" \".join([indeces, str(i)])\n",
    "    return indeces"
   ]
  },
  {
   "cell_type": "code",
   "execution_count": 5,
   "metadata": {},
   "outputs": [
    {
     "name": "stdout",
     "output_type": "stream",
     "text": [
      " 14 41 69 103 128 166 203 232 271 298 323 390 397 452 490 497 522 547 554 625 637 657 690 697 733 802 837 844 862 880 953 977 987 1003 1026 1055 1062 1069 1084 1103 1135 1205 1212 1257 1273 1290 1297 1406 1474 1493 1516 1523 1585 1593 1617 1676 1696 1718 1817 1846 1934 1941 1948 1955 2000 2032 2050 2104 2120 2127 2161 2194 2212 2240 2256 2325 2340 2358 2370 2443 2450 2457 2482 2489 2496 2503 2520 2554 2561 2597 2612 2641 2714 2730 2777 2797 2892 2928 2944 2977 2984 2992 2999 3042 3083 3099 3144 3151 3169 3186 3219 3226 3296 3317 3408 3416 3467 3474 3483 3510 3537 3559 3567 3603 3644 3697 3714 3721 3784 3898 3928 3935 3942 3964 3987 4015 4022 4034 4042 4107 4133 4148 4174 4219 4226 4234 4241 4248 4279 4294 4335 4342 4357 4367 4442 4449 4456 4463 4470 4493 4500 4552 4572 4580 4587 4594 4615 4622 4698 4739 4754 4786 4802 4809 4888 4895 4948 5002 5009 5038 5045 5052 5059 5098 5118 5141 5148 5179 5217 5233 5276 5307 5314 5321 5348 5470 5477 5484 5511 5622 5657 5691 5706 5723 5748 5825 5834 5922 5930 5946 5981 6017 6057 6073 6135 6143 6173 6180 6220 6227 6244 6259 6298 6305 6312 6319 6376 6406 6413 6534 6541 6556 6571 6578 6597 6616 6653 6660 6679 6714 6732 6763 6770 6808 6844 6959 7070 7087 7157 7176 7228 7263 7290 7404 7437 7460 7494 7568 7605 7687 7703 7710 7737 7768 7842 7894 7937 7946 8120 8166 8183 8198 8282 8355 8401 8443\n"
     ]
    }
   ],
   "source": [
    "# import the test data\n",
    "test_data_file =\"PatternMatching Test Data\\dataset_30273_5.txt\"\n",
    "with open(test_data_file, \"r\") as file:\n",
    "    pattern = file.readline().strip()\n",
    "    genome = file.readline().strip()\n",
    "    print(PatternMatching(pattern, genome))"
   ]
  }
 ],
 "metadata": {
  "kernelspec": {
   "display_name": "Python 3",
   "language": "python",
   "name": "python3"
  },
  "language_info": {
   "codemirror_mode": {
    "name": "ipython",
    "version": 3
   },
   "file_extension": ".py",
   "mimetype": "text/x-python",
   "name": "python",
   "nbconvert_exporter": "python",
   "pygments_lexer": "ipython3",
   "version": "3.11.0"
  },
  "orig_nbformat": 4
 },
 "nbformat": 4,
 "nbformat_minor": 2
}
