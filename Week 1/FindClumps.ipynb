{
 "cells": [
  {
   "attachments": {},
   "cell_type": "markdown",
   "metadata": {},
   "source": [
    "# Code Challenge: Solve the Clump Finding Problem (restated below). You will need to make sure that your algorithm is efficient enough to handle a large dataset.\n",
    "\n",
    "Clump Finding Problem: Find patterns forming clumps in a string.\n",
    "\n",
    "Input: A string Genome, and integers k, L, and t.\n",
    "Output: All distinct k-mers forming (L, t)-clumps in Genome.\n",
    "\n",
    "```\n",
    "FindClumps(Text, k, L, t)\n",
    "    Patterns ← an array of strings of length 0\n",
    "    n ← |Text|\n",
    "    for every integer i between 0 and n − L\n",
    "        Window ← Text(i, L)\n",
    "        freqMap ← FrequencyTable(Window, k)\n",
    "        for every key s in freqMap\n",
    "            if freqMap[s] ≥ t\n",
    "                append s to Patterns\n",
    "    remove duplicates from Patterns\n",
    "    return Patterns\n",
    "```\n",
    "\n",
    "## Sample Input:\n",
    "CGGACTCGACAGATGTGAAGAACGACAATGTGAAGACTCGACACGACAGAGTGAAGAGAAGAGGAAACATTGTAA\n",
    "5 50 4\n",
    "## Sample Output:\n",
    "CGACA GAAGA"
   ]
  },
  {
   "cell_type": "code",
   "execution_count": 47,
   "metadata": {},
   "outputs": [],
   "source": [
    "def FrequencyTable(text, k):\n",
    "    # make a dictionary to store all k-mers\n",
    "    kmers = {}\n",
    "    # iterate through text\n",
    "    for i in range(len(text)-(k-1)):\n",
    "        slide = text[i:i+k]\n",
    "        # for each k length slice, update the dictionary value\n",
    "        if slide in kmers:\n",
    "            kmers[slide] = kmers[slide] + 1\n",
    "        else:\n",
    "            kmers[slide] = 1\n",
    "    return kmers\n",
    "\n",
    "\n",
    "def FindClumps(k, L, t, genome):\n",
    "    patterns = []\n",
    "    n = len(genome)\n",
    "    for i in range (n - L):\n",
    "        window = genome[i:L+i]\n",
    "        freqMap = FrequencyTable(window, k)\n",
    "        for key in freqMap:\n",
    "            if freqMap[key] >= t:\n",
    "                patterns.append(key)\n",
    "    # remove duplicates from patterns\n",
    "    patterns = list(dict.fromkeys(patterns))\n",
    "    # format as string for answer checking\n",
    "    return \" \".join(patterns)"
   ]
  },
  {
   "cell_type": "code",
   "execution_count": 48,
   "metadata": {},
   "outputs": [
    {
     "name": "stdout",
     "output_type": "stream",
     "text": [
      "TGCCTTTTGT TCGCCGGGTT TTCGCCGGGT ATTCCCGGTG GACGTTAAAA ATAGTGTGGC TTCATAGAAT CTGTTTGAAG GCCTAACTAC\n"
     ]
    }
   ],
   "source": [
    "# import the test data\n",
    "test_data_file =\"FindClumps Test Data/dataset_30274_5.txt\"\n",
    "with open(test_data_file, \"r\") as file:\n",
    "    genome = file.readline().strip()\n",
    "    k, L, t = file.readline().strip().split(\" \")\n",
    "    k = int(k)\n",
    "    L = int(L)\n",
    "    t = int(t)\n",
    "    print(FindClumps(k, L, t, genome))"
   ]
  },
  {
   "cell_type": "code",
   "execution_count": 49,
   "metadata": {},
   "outputs": [],
   "source": [
    "# use the function to find clumps in the e coli genome\n",
    "\n",
    "# define k, L, t from text\n",
    "k = 9\n",
    "L = 500\n",
    "t = 3\n",
    "\n",
    "# import the E coli genome\n",
    "test_data_file =\"Genomes/E_coli.txt\"\n",
    "with open(test_data_file, \"r\") as file:\n",
    "    genome = file.readline().strip()\n",
    "    print(FindClumps(k, L, t, genome))"
   ]
  }
 ],
 "metadata": {
  "kernelspec": {
   "display_name": "Python 3",
   "language": "python",
   "name": "python3"
  },
  "language_info": {
   "codemirror_mode": {
    "name": "ipython",
    "version": 3
   },
   "file_extension": ".py",
   "mimetype": "text/x-python",
   "name": "python",
   "nbconvert_exporter": "python",
   "pygments_lexer": "ipython3",
   "version": "3.11.0"
  },
  "orig_nbformat": 4
 },
 "nbformat": 4,
 "nbformat_minor": 2
}
