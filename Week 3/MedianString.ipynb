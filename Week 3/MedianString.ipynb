{
 "cells": [
  {
   "cell_type": "markdown",
   "metadata": {},
   "source": [
    "# Code Challenge: Implement DistanceBetweenPatternAndStrings\n",
    "\n",
    "The first potential issue with implementing MedianString is writing a function to compute d(Pattern, Dna) = ∑ti=1 d(Pattern, Dnai), the sum of distances between Pattern and each string in Dna = {Dna1, ..., Dnat}. This task is achieved by the following pseudocode.\n",
    "\n",
    "```\n",
    "DistanceBetweenPatternAndStrings(Pattern, Dna)\n",
    "    k ← |Pattern|\n",
    "    distance ← 0\n",
    "    for each string Text in Dna\n",
    "        HammingDistance ← ∞\n",
    "        for each k-mer Pattern’ in Text\n",
    "            if HammingDistance > HammingDistance(Pattern, Pattern’)\n",
    "                HammingDistance ← HammingDistance(Pattern, Pattern’)\n",
    "        distance ← distance + HammingDistance\n",
    "    return distance\n",
    "```\n",
    "\n",
    "Input: A string Pattern followed by a collection of space-separated strings Dna.\n",
    "Output: d(Pattern, Dna).\n",
    "\n",
    "Sample Input:\n",
    "AAA\n",
    "TTACCTTAAC GATATCTGTC ACGGCGTTCG CCCTAAAGAG CGTCAGAGGT\n",
    "Sample Output:\n",
    "5"
   ]
  },
  {
   "cell_type": "code",
   "execution_count": 30,
   "metadata": {},
   "outputs": [],
   "source": [
    "def split_substrings(Dna, k):\n",
    "    dna_array = Dna.split(\" \")\n",
    "    final = []\n",
    "    for entry in dna_array:\n",
    "        for i in range(len(entry)-k):\n",
    "            final.append(entry[i:i+k])\n",
    "    return final\n",
    "\n",
    "def HammingDistance(string_1, string_2):\n",
    "    # confirm same length\n",
    "    try:\n",
    "        assert len(string_1) == len(string_2)\n",
    "    except AssertionError:\n",
    "        print(\"Error: The strings must have the same length.\")\n",
    "\n",
    "    # find hamming distance by iterating over string\n",
    "    hamming_distance = 0\n",
    "    string_length = len(string_1)\n",
    "    for i in range(string_length):\n",
    "        if string_1[i] != string_2[i]:\n",
    "            hamming_distance = hamming_distance + 1\n",
    "    return hamming_distance\n",
    "\n",
    "def DistanceBetweenPatternAndStrings(Pattern, Dna):\n",
    "    k = len(Pattern)\n",
    "    distance = 0\n",
    "    for Text in Dna.split(\" \"):\n",
    "        # arbitrarily large hamming distance\n",
    "        ham_dist = 100000\n",
    "        for kmer in split_substrings(Text, k):\n",
    "            if ham_dist > HammingDistance(Pattern, kmer):\n",
    "                ham_dist = HammingDistance(Pattern, kmer)\n",
    "        distance = distance + ham_dist\n",
    "    return distance"
   ]
  },
  {
   "cell_type": "code",
   "execution_count": 31,
   "metadata": {},
   "outputs": [
    {
     "name": "stdout",
     "output_type": "stream",
     "text": [
      "5\n"
     ]
    }
   ],
   "source": [
    "print(DistanceBetweenPatternAndStrings(\"AAA\", \"TTACCTTAAC GATATCTGTC ACGGCGTTCG CCCTAAAGAG CGTCAGAGGT\"))"
   ]
  },
  {
   "cell_type": "code",
   "execution_count": 32,
   "metadata": {},
   "outputs": [
    {
     "name": "stdout",
     "output_type": "stream",
     "text": [
      "65\n"
     ]
    }
   ],
   "source": [
    "test_file=\"MedianString Test Files\\dataset_30312_1 (1).txt\"\n",
    "\n",
    "with open(test_file, \"r\") as file:\n",
    "    pattern = file.readline().strip()\n",
    "    dna = file.readline().strip()\n",
    "    print(DistanceBetweenPatternAndStrings(pattern, dna))"
   ]
  },
  {
   "cell_type": "markdown",
   "metadata": {},
   "source": [
    "# Code Challenge: Implement MedianString.\n",
    "\n",
    "Input: An integer k, followed by a space-separated collection of strings Dna.\n",
    "Output: A k-mer Pattern that minimizes d(Pattern, Dna) among all possible choices of k-mers. (If there are multiple such strings Pattern, then you may return any one.)\n",
    "\n",
    "## Sample Input:\n",
    "3\n",
    "AAATTGACGCAT GACGACCACGTT CGTCAGCGCCTG GCTGAGCACCGG AGTTCGGGACAG\n",
    "## Sample Output:\n",
    "GAC\n",
    "\n",
    "```\n",
    "MedianString(Dna, k)\n",
    "    distance ← ∞\n",
    "    for each k-mer Pattern from AA…AA to TT…TT\n",
    "        if distance > d(Pattern, Dna)\n",
    "             distance ← d(Pattern, Dna)\n",
    "             Median ← Pattern\n",
    "    return Median\n",
    "```\n",
    "\n",
    "```\n",
    "DistanceBetweenPatternAndStrings(Pattern, Dna)\n",
    "    k ← |Pattern|\n",
    "    distance ← 0\n",
    "    for each string Text in Dna\n",
    "        HammingDistance ← ∞\n",
    "        for each k-mer Pattern’ in Text\n",
    "            if HammingDistance > HammingDistance(Pattern, Pattern’)\n",
    "                HammingDistance ← HammingDistance(Pattern, Pattern’)\n",
    "        distance ← distance + HammingDistance\n",
    "    return distance\n",
    "```"
   ]
  },
  {
   "cell_type": "code",
   "execution_count": 14,
   "metadata": {},
   "outputs": [],
   "source": [
    "def MedianString(k, Dna):\n",
    "    distance = 10000000\n",
    "    median = \"\"\n",
    "    for pattern in split_substrings(Dna, k):\n",
    "        if distance > DistanceBetweenPatternAndStrings(pattern, Dna):\n",
    "             distance = DistanceBetweenPatternAndStrings(pattern, Dna)\n",
    "             median = pattern\n",
    "    return median"
   ]
  },
  {
   "cell_type": "code",
   "execution_count": 33,
   "metadata": {},
   "outputs": [
    {
     "name": "stdout",
     "output_type": "stream",
     "text": [
      "GAC\n"
     ]
    }
   ],
   "source": [
    "print(MedianString(3, \"AAATTGACGCAT GACGACCACGTT CGTCAGCGCCTG GCTGAGCACCGG AGTTCGGGACAG\"))"
   ]
  },
  {
   "cell_type": "code",
   "execution_count": 34,
   "metadata": {},
   "outputs": [
    {
     "name": "stdout",
     "output_type": "stream",
     "text": [
      "TTAGTT\n"
     ]
    }
   ],
   "source": [
    "test_file=\"MedianString Test Files\\dataset_30304_9.txt\"\n",
    "\n",
    "with open(test_file, \"r\") as file:\n",
    "    k = int(file.readline().strip())\n",
    "    dna = file.readline().strip()\n",
    "    print(MedianString(k, dna))"
   ]
  }
 ],
 "metadata": {
  "kernelspec": {
   "display_name": "Python 3",
   "language": "python",
   "name": "python3"
  },
  "language_info": {
   "codemirror_mode": {
    "name": "ipython",
    "version": 3
   },
   "file_extension": ".py",
   "mimetype": "text/x-python",
   "name": "python",
   "nbconvert_exporter": "python",
   "pygments_lexer": "ipython3",
   "version": "3.11.0"
  }
 },
 "nbformat": 4,
 "nbformat_minor": 2
}
